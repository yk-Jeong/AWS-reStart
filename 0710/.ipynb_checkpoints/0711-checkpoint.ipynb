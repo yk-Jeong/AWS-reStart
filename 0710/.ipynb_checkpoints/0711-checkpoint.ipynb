{
 "cells": [
  {
   "cell_type": "code",
   "execution_count": 2,
   "id": "5d9d8e7d",
   "metadata": {},
   "outputs": [
    {
     "name": "stdout",
     "output_type": "stream",
     "text": [
      "Your favorite season?summer\n",
      "장미\n",
      "season == summer?\n"
     ]
    }
   ],
   "source": [
    "season = input(\"Your favorite season?\").lower()\n",
    "if season == 'spring':\n",
    "    print('진달래')\n",
    "elif season == 'summer':\n",
    "    print('장미')\n",
    "elif season == 'fall':\n",
    "    print('코스모스')\n",
    "elif season == 'winter':\n",
    "    print('동백')\n",
    "    \n",
    "print(f'season == {season}?')"
   ]
  },
  {
   "cell_type": "code",
   "execution_count": 16,
   "id": "753ddd61",
   "metadata": {},
   "outputs": [
    {
     "name": "stdout",
     "output_type": "stream",
     "text": [
      "[6, 12, 18, 24]\n",
      "[30, 36, 42, 48]\n",
      "[54, 60, 66, 72]\n",
      "[78, 84, 90, 96]\n"
     ]
    }
   ],
   "source": [
    "six = []\n",
    "for i in range(1, 101):\n",
    "    if i % 6 == 0:\n",
    "        six.append(i)\n",
    "\n",
    "for j in range(0, len(six), 4):\n",
    "    print(six[j:j+4])"
   ]
  },
  {
   "cell_type": "code",
   "execution_count": 18,
   "id": "d9bd879e",
   "metadata": {},
   "outputs": [
    {
     "name": "stdout",
     "output_type": "stream",
     "text": [
      "6\t12\t18\t24\t\n",
      "30\t36\t42\t48\t\n",
      "54\t60\t66\t72\t\n",
      "78\t84\t90\t96\t\n"
     ]
    }
   ],
   "source": [
    "count = 0\n",
    "for i in range(1, 101):\n",
    "    if i % 6 == 0:\n",
    "        count += 1\n",
    "        print(i, end='\\t')\n",
    "        if count % 4 == 0:\n",
    "            print ()"
   ]
  },
  {
   "cell_type": "code",
   "execution_count": 31,
   "id": "15f6adb7",
   "metadata": {},
   "outputs": [
    {
     "name": "stdout",
     "output_type": "stream",
     "text": [
      "烟鎻瑤空鶴未歸　　안개 낀 하늘가로 학은 돌아오지 않고\n",
      "桂花陰裏閉珠扉　　계수나무 꽃그늘 속에 사립문 닫혔노라\n",
      "溪頭盡日神靈雨　　시냇가에 종일토록 신령스런 비 내리니\n",
      "滿地香雲濕不飛　　땅 가득한 향기구름에 젖어 날지 못하오."
     ]
    }
   ],
   "source": [
    "fpoint=open('demo.txt', 'r', encoding='utf8')\n",
    "while True:\n",
    "    line = fpoint.readline()\n",
    "    if not line: break # 오 이건 몰랐네 \n",
    "    print(line, end='')\n",
    "fpoint.close()"
   ]
  }
 ],
 "metadata": {
  "kernelspec": {
   "display_name": "Python 3 (ipykernel)",
   "language": "python",
   "name": "python3"
  },
  "language_info": {
   "codemirror_mode": {
    "name": "ipython",
    "version": 3
   },
   "file_extension": ".py",
   "mimetype": "text/x-python",
   "name": "python",
   "nbconvert_exporter": "python",
   "pygments_lexer": "ipython3",
   "version": "3.11.4"
  }
 },
 "nbformat": 4,
 "nbformat_minor": 5
}
