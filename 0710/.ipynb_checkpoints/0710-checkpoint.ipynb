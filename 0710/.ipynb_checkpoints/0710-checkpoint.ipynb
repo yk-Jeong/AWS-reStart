{
 "cells": [
  {
   "cell_type": "code",
   "execution_count": 2,
   "id": "1aeb22be",
   "metadata": {
    "scrolled": true
   },
   "outputs": [
    {
     "name": "stdout",
     "output_type": "stream",
     "text": [
      "What is your name?유경\n",
      "Your name is 유경.\n"
     ]
    }
   ],
   "source": [
    "name = input(\"What is your name?\")\n",
    "print(\"Your name is \" + name + \".\")"
   ]
  },
  {
   "cell_type": "code",
   "execution_count": 4,
   "id": "0b8cebff",
   "metadata": {},
   "outputs": [
    {
     "name": "stdout",
     "output_type": "stream",
     "text": [
      "What is your name? 유경\n",
      "Your name is 유경.\n"
     ]
    }
   ],
   "source": [
    "name = input(\"What is your name? \")\n",
    "print(f'Your name is {name}.')"
   ]
  },
  {
   "cell_type": "code",
   "execution_count": 5,
   "id": "5f5dda31",
   "metadata": {},
   "outputs": [
    {
     "data": {
      "text/plain": [
       "str"
      ]
     },
     "execution_count": 5,
     "metadata": {},
     "output_type": "execute_result"
    }
   ],
   "source": [
    "type(name)"
   ]
  },
  {
   "cell_type": "code",
   "execution_count": 7,
   "id": "6af64ecc",
   "metadata": {},
   "outputs": [],
   "source": [
    "student = {\n",
    "    \"이름\": \"정유경\",\n",
    "    \"나이\":33, \n",
    "    \"주소\": \"서울시 은평구 역말로 131-14\"\n",
    "}"
   ]
  },
  {
   "cell_type": "code",
   "execution_count": 9,
   "id": "be23f654",
   "metadata": {},
   "outputs": [
    {
     "data": {
      "text/plain": [
       "({'이름': '정유경', '나이': 33, '주소': '서울시 은평구 역말로 131-14'}, dict)"
      ]
     },
     "execution_count": 9,
     "metadata": {},
     "output_type": "execute_result"
    }
   ],
   "source": [
    "student, type(student)"
   ]
  },
  {
   "cell_type": "markdown",
   "id": "3d35adb0",
   "metadata": {},
   "source": [
    "## test "
   ]
  },
  {
   "cell_type": "code",
   "execution_count": 15,
   "id": "df3e3ab9",
   "metadata": {},
   "outputs": [
    {
     "name": "stdout",
     "output_type": "stream",
     "text": [
      "정유경의 나이는 33입니다.\n"
     ]
    }
   ],
   "source": [
    "print(student['이름'] + '의 나이는 '+ str(student['나이'])+'입니다.')"
   ]
  },
  {
   "cell_type": "code",
   "execution_count": 19,
   "id": "bb455a1c",
   "metadata": {},
   "outputs": [
    {
     "name": "stdout",
     "output_type": "stream",
     "text": [
      "근데 쌍따옴표도 잘 되던가?\n"
     ]
    }
   ],
   "source": [
    "very = '잘'\n",
    "print(f\"근데 쌍따옴표도 {very} 되던가?\") # 되네"
   ]
  },
  {
   "cell_type": "code",
   "execution_count": 20,
   "id": "3ba8e97a",
   "metadata": {},
   "outputs": [],
   "source": [
    "student ={}"
   ]
  },
  {
   "cell_type": "code",
   "execution_count": 27,
   "id": "b8f6a388",
   "metadata": {},
   "outputs": [
    {
     "name": "stdout",
     "output_type": "stream",
     "text": [
      "이름:  \n",
      "나이: \n"
     ]
    },
    {
     "ename": "ValueError",
     "evalue": "invalid literal for int() with base 10: ''",
     "output_type": "error",
     "traceback": [
      "\u001b[1;31m---------------------------------------------------------------------------\u001b[0m",
      "\u001b[1;31mValueError\u001b[0m                                Traceback (most recent call last)",
      "Cell \u001b[1;32mIn[27], line 2\u001b[0m\n\u001b[0;32m      1\u001b[0m student[\u001b[38;5;124m'\u001b[39m\u001b[38;5;124mname\u001b[39m\u001b[38;5;124m'\u001b[39m] \u001b[38;5;241m=\u001b[39m \u001b[38;5;28minput\u001b[39m(\u001b[38;5;124m\"\u001b[39m\u001b[38;5;124m이름: \u001b[39m\u001b[38;5;124m\"\u001b[39m)\n\u001b[1;32m----> 2\u001b[0m student[\u001b[38;5;124m'\u001b[39m\u001b[38;5;124mage\u001b[39m\u001b[38;5;124m'\u001b[39m] \u001b[38;5;241m=\u001b[39m \u001b[38;5;28;43mint\u001b[39;49m\u001b[43m(\u001b[49m\u001b[38;5;28;43minput\u001b[39;49m\u001b[43m(\u001b[49m\u001b[38;5;124;43m\"\u001b[39;49m\u001b[38;5;124;43m나이: \u001b[39;49m\u001b[38;5;124;43m\"\u001b[39;49m\u001b[43m)\u001b[49m\u001b[43m)\u001b[49m\u001b[38;5;241m-\u001b[39m\u001b[38;5;241m1\u001b[39m\n\u001b[0;32m      3\u001b[0m student[\u001b[38;5;124m'\u001b[39m\u001b[38;5;124maddress\u001b[39m\u001b[38;5;124m'\u001b[39m] \u001b[38;5;241m=\u001b[39m \u001b[38;5;28minput\u001b[39m(\u001b[38;5;124m\"\u001b[39m\u001b[38;5;124m주소: \u001b[39m\u001b[38;5;124m\"\u001b[39m)\n\u001b[0;32m      4\u001b[0m student\n",
      "\u001b[1;31mValueError\u001b[0m: invalid literal for int() with base 10: ''"
     ]
    }
   ],
   "source": [
    "student['name'] = input(\"이름: \")\n",
    "student['age'] = int(input(\"나이: \"))-1\n",
    "student['address'] = input(\"주소: \")\n",
    "student"
   ]
  },
  {
   "cell_type": "code",
   "execution_count": null,
   "id": "dd205d04",
   "metadata": {},
   "outputs": [],
   "source": []
  }
 ],
 "metadata": {
  "kernelspec": {
   "display_name": "Python 3 (ipykernel)",
   "language": "python",
   "name": "python3"
  },
  "language_info": {
   "codemirror_mode": {
    "name": "ipython",
    "version": 3
   },
   "file_extension": ".py",
   "mimetype": "text/x-python",
   "name": "python",
   "nbconvert_exporter": "python",
   "pygments_lexer": "ipython3",
   "version": "3.11.4"
  }
 },
 "nbformat": 4,
 "nbformat_minor": 5
}
